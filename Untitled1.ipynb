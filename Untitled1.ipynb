{
  "nbformat": 4,
  "nbformat_minor": 0,
  "metadata": {
    "colab": {
      "provenance": []
    },
    "kernelspec": {
      "name": "python3",
      "display_name": "Python 3"
    },
    "language_info": {
      "name": "python"
    }
  },
  "cells": [
    {
      "cell_type": "code",
      "execution_count": null,
      "metadata": {
        "colab": {
          "base_uri": "https://localhost:8080/"
        },
        "id": "dqL4_94YovH7",
        "outputId": "6c3442c5-e776-4d29-c8c1-b926004754bf"
      },
      "outputs": [
        {
          "name": "stdout",
          "output_type": "stream",
          "text": [
            "enter the lower value of the range  :\n",
            "2\n",
            "enter the higher value of the range:\n",
            "7\n"
          ]
        }
      ],
      "source": [
        "+print(\"enter the lower value of the range  :\")\n",
        "r1=int(input())\n",
        "print(\"enter the higher value of the range:\")\n",
        "r2=int(input())\n",
        "for i in range (r1,r2):\n",
        "    \n",
        "    def adjacentSet(i):\n",
        "      return (i & (i >> 1))\n",
        " \n",
        "# Driver Code\n",
        "    \n",
        "    values=[]\n",
        "for i in range(r1,r2):\n",
        "    if (adjacentSet(i)):\n",
        "       values.append(\"True\")\n",
        "    else:\n",
        "        values.append( \"False\")\n",
        "\n",
        "\n",
        "def keys(r1, r2):\n",
        "     return list(range(r1, r2+1))\n"
      ]
    },
    {
      "cell_type": "code",
      "source": [
        "\n",
        "\n",
        "new_dict={}\n",
        "new_dict = dict(zip(keys(r1,r2),values))\n",
        "print(new_dict)"
      ],
      "metadata": {
        "colab": {
          "base_uri": "https://localhost:8080/"
        },
        "id": "ZrLUZ00wowmR",
        "outputId": "f6b74f03-684b-482d-83a5-be68711bfb35"
      },
      "execution_count": null,
      "outputs": [
        {
          "output_type": "stream",
          "name": "stdout",
          "text": [
            "{2: 'False', 3: 'True', 4: 'False', 5: 'False', 6: 'True'}\n"
          ]
        }
      ]
    },
    {
      "cell_type": "code",
      "source": [
        "\n"
      ],
      "metadata": {
        "id": "_4nAa9x9jS6N",
        "outputId": "579c37b4-8223-4c5e-9dcc-a7b4522e89e6",
        "colab": {
          "base_uri": "https://localhost:8080/"
        }
      },
      "execution_count": null,
      "outputs": [
        {
          "output_type": "stream",
          "name": "stdout",
          "text": [
            "Looking in indexes: https://pypi.org/simple, https://us-python.pkg.dev/colab-wheels/public/simple/\n",
            "Collecting django\n",
            "  Downloading Django-3.2.15-py3-none-any.whl (7.9 MB)\n",
            "\u001b[K     |████████████████████████████████| 7.9 MB 10.0 MB/s \n",
            "\u001b[?25hCollecting asgiref<4,>=3.3.2\n",
            "  Downloading asgiref-3.5.2-py3-none-any.whl (22 kB)\n",
            "Requirement already satisfied: pytz in /usr/local/lib/python3.7/dist-packages (from django) (2022.2.1)\n",
            "Requirement already satisfied: sqlparse>=0.2.2 in /usr/local/lib/python3.7/dist-packages (from django) (0.4.2)\n",
            "Requirement already satisfied: typing-extensions in /usr/local/lib/python3.7/dist-packages (from asgiref<4,>=3.3.2->django) (4.1.1)\n",
            "Installing collected packages: asgiref, django\n",
            "Successfully installed asgiref-3.5.2 django-3.2.15\n"
          ]
        }
      ]
    },
    {
      "cell_type": "code",
      "source": [],
      "metadata": {
        "id": "3doVrN1ajYhv",
        "colab": {
          "base_uri": "https://localhost:8080/",
          "height": 165
        },
        "outputId": "65407fc6-1e15-4d3e-fe7a-d2c30f45e33b"
      },
      "execution_count": null,
      "outputs": [
        {
          "output_type": "error",
          "ename": "FileNotFoundError",
          "evalue": "ignored",
          "traceback": [
            "\u001b[0;31m---------------------------------------------------------------------------\u001b[0m",
            "\u001b[0;31mFileNotFoundError\u001b[0m                         Traceback (most recent call last)",
            "\u001b[0;32m<ipython-input-1-c1d6406a1bac>\u001b[0m in \u001b[0;36m<module>\u001b[0;34m\u001b[0m\n\u001b[0;32m----> 1\u001b[0;31m \u001b[0mf\u001b[0m \u001b[0;34m=\u001b[0m \u001b[0mopen\u001b[0m\u001b[0;34m(\u001b[0m\u001b[0;34m\"test.txt\"\u001b[0m\u001b[0;34m)\u001b[0m\u001b[0;34m\u001b[0m\u001b[0;34m\u001b[0m\u001b[0m\n\u001b[0m",
            "\u001b[0;31mFileNotFoundError\u001b[0m: [Errno 2] No such file or directory: 'test.txt'"
          ]
        }
      ]
    }
  ]
}